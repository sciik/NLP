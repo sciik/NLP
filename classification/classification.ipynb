{
 "cells": [
  {
   "cell_type": "code",
   "execution_count": 76,
   "id": "30d45feb",
   "metadata": {},
   "outputs": [],
   "source": [
    "from tqdm import tqdm\n",
    "from tensorflow.keras.datasets import reuters\n",
    "import tensorflow as tf\n",
    "import matplotlib.pyplot as plt\n",
    "import seaborn as sns\n",
    "import numpy as np\n",
    "import pandas as pd\n",
    "from sklearn.feature_extraction.text import CountVectorizer\n",
    "from sklearn.feature_extraction.text import TfidfTransformer\n",
    "from sklearn.naive_bayes import MultinomialNB \n",
    "from sklearn.linear_model import LogisticRegression, SGDClassifier\n",
    "from sklearn.naive_bayes import ComplementNB\n",
    "from sklearn.tree import DecisionTreeClassifier\n",
    "from sklearn.ensemble import RandomForestClassifier\n",
    "from sklearn.ensemble import GradientBoostingClassifier\n",
    "from sklearn.ensemble import VotingClassifier\n",
    "from sklearn.svm import LinearSVC\n",
    "from sklearn.metrics import accuracy_score"
   ]
  },
  {
   "cell_type": "code",
   "execution_count": 77,
   "id": "5ccfa4df",
   "metadata": {},
   "outputs": [],
   "source": [
    "num_words_list = [50000, 20000, 5000]\n",
    "\n",
    "def load_dataset(num_words_list):\n",
    "    X_trains = []\n",
    "    y_trains = []\n",
    "    X_tests = []\n",
    "    y_tests = []\n",
    "    \n",
    "    for num_words in num_words_list:\n",
    "        (X_train, y_train), (X_test, y_test) = reuters.load_data(num_words=num_words, test_split=0.2)\n",
    "        \n",
    "        word_index = reuters.get_word_index(path=\"reuters_word_index.json\")\n",
    "        index_to_word = {index+3 : word for word, index in word_index.items() }\n",
    "        for index, token in enumerate((\"<pad>\", \"<sos>\", \"<unk>\")):\n",
    "            index_to_word[index]=token\n",
    "            \n",
    "        decoded = []\n",
    "        for i in range(len(X_train)):\n",
    "            temp = ' '.join([index_to_word[index] for index in X_train[i]])\n",
    "            decoded.append(temp)\n",
    "        X_trains.append(decoded)\n",
    "        \n",
    "        decoded = []\n",
    "        for i in range(len(X_test)):\n",
    "            temp = ' '.join([index_to_word[index] for index in X_test[i]])\n",
    "            decoded.append(temp)\n",
    "        X_tests.append(decoded)\n",
    "        \n",
    "        y_trains.append(y_train)\n",
    "        y_tests.append(y_test)\n",
    "    return X_trains, y_trains, X_tests, y_tests"
   ]
  },
  {
   "cell_type": "code",
   "execution_count": 78,
   "id": "5849d78b",
   "metadata": {},
   "outputs": [],
   "source": [
    "dtmvector = CountVectorizer()\n",
    "tfidf_transformer = TfidfTransformer()\n",
    "\n",
    "def tfidf_transform(X_trains, X_tests):\n",
    "    tfidf_X_trains = []\n",
    "    tfidf_X_tests = []\n",
    "    \n",
    "    for X_train, X_test in zip(X_trains, X_tests):\n",
    "        x_train_dtm = dtmvector.fit_transform(X_train)\n",
    "        tfidfv = tfidf_transformer.fit_transform(x_train_dtm)\n",
    "        tfidf_X_trains.append(tfidfv)\n",
    "        \n",
    "        x_test_dtm = dtmvector.transform(X_test)\n",
    "        tfidfv_test = tfidf_transformer.transform(x_test_dtm)\n",
    "        tfidf_X_tests.append(tfidfv_test)\n",
    "    \n",
    "    return tfidf_X_trains, tfidf_X_tests"
   ]
  },
  {
   "cell_type": "code",
   "execution_count": 79,
   "id": "ea66603f",
   "metadata": {},
   "outputs": [],
   "source": [
    "def get_acc(model, tfidf_X_train, y_train, tf_idf_X_test, y_test):\n",
    "    model.fit(tfidf_X_train, y_train)\n",
    "    predicted = model.predict(tf_idf_X_test)\n",
    "    acc = accuracy_score(y_test, predicted)\n",
    "    return acc"
   ]
  },
  {
   "cell_type": "code",
   "execution_count": 80,
   "id": "222fd2e6",
   "metadata": {},
   "outputs": [],
   "source": [
    "model_list = [\"Naive Bayse\", \n",
    "              \"Complement Naive Bayes Classifier\", \n",
    "              \"Logistic Regression\", \n",
    "              \"Linear Support Vector Machine\", \n",
    "              \"Decision Tree\", \n",
    "              \"Random Forest\", \n",
    "              \"GradientBoostingClassifier\", \n",
    "              \"Voting\"]\n",
    "\n",
    "def test_machine_learning(tfidf_X_train, y_train, tf_idf_X_test, y_test, num_words):\n",
    "    accuarcy = []\n",
    "    \n",
    "    model = MultinomialNB()\n",
    "    accuarcy.append(get_acc(model, tfidf_X_train, y_train, tf_idf_X_test, y_test))\n",
    "    \n",
    "    model = ComplementNB()\n",
    "    accuarcy.append(get_acc(model, tfidf_X_train, y_train, tf_idf_X_test, y_test))\n",
    "    \n",
    "    model = LogisticRegression(C=10000, penalty='l2', max_iter=3000)\n",
    "    accuarcy.append(get_acc(model, tfidf_X_train, y_train, tf_idf_X_test, y_test))\n",
    "    \n",
    "    model = LinearSVC(C=1000, penalty='l1', max_iter=3000, dual=False)\n",
    "    accuarcy.append(get_acc(model, tfidf_X_train, y_train, tf_idf_X_test, y_test))\n",
    "    \n",
    "    model = DecisionTreeClassifier(max_depth=10, random_state=0)\n",
    "    accuarcy.append(get_acc(model, tfidf_X_train, y_train, tf_idf_X_test, y_test))\n",
    "    \n",
    "    model = RandomForestClassifier(n_estimators=5, random_state=0)\n",
    "    accuarcy.append(get_acc(model, tfidf_X_train, y_train, tf_idf_X_test, y_test))\n",
    "    \n",
    "    model = GradientBoostingClassifier(random_state=0)\n",
    "    accuarcy.append(get_acc(model, tfidf_X_train, y_train, tf_idf_X_test, y_test))\n",
    "    \n",
    "    \n",
    "    model = VotingClassifier(estimators=[\n",
    "         ('lr', LogisticRegression(C=10000, max_iter=3000, penalty='l2')),\n",
    "        ('cb', ComplementNB()),\n",
    "        ('grbt', GradientBoostingClassifier(random_state=0))\n",
    "    ], voting='soft')\n",
    "    accuarcy.append(get_acc(model, tfidf_X_train, y_train, tf_idf_X_test, y_test))\n",
    "    \n",
    "    print(\"=\"*65)\n",
    "    print(\"num_words : {}\".format(num_words))\n",
    "    for i in range(len(model_list)):\n",
    "        print(\"{} accuacy : {}\".format(model_list[i], accuarcy[i]))\n",
    "    print(\"=\"*65)\n",
    "    print()\n",
    "    print()\n",
    "    print()\n",
    "    \n",
    "    return accuarcy"
   ]
  },
  {
   "cell_type": "code",
   "execution_count": 81,
   "id": "4b9acd2c",
   "metadata": {},
   "outputs": [
    {
     "name": "stderr",
     "output_type": "stream",
     "text": [
      "\r\n",
      "  0%|          | 0/3 [00:00<?, ?it/s]"
     ]
    },
    {
     "name": "stdout",
     "output_type": "stream",
     "text": [
      "(8982, 26506)\n",
      "(2246, 26506)\n"
     ]
    },
    {
     "name": "stderr",
     "output_type": "stream",
     "text": [
      "/opt/conda/lib/python3.9/site-packages/sklearn/svm/_base.py:1199: ConvergenceWarning: Liblinear failed to converge, increase the number of iterations.\n",
      "  warnings.warn(\n",
      " 33%|███▎      | 1/3 [1:00:54<2:01:48, 3654.12s/it]"
     ]
    },
    {
     "name": "stdout",
     "output_type": "stream",
     "text": [
      "===============\n",
      "num_words : 50000\n",
      "Naive Bayse accuacy : 0.5997328584149599\n",
      "Complement Naive Bayes Classifier accuacy : 0.7649154051647373\n",
      "Logistic Regression accuacy : 0.8165627782724845\n",
      "Linear Support Vector Machine accuacy : 0.7880676758682101\n",
      "Decision Tree accuacy : 0.6219946571682992\n",
      "Random Forest accuacy : 0.6527159394479074\n",
      "GradientBoostingClassifier accuacy : 0.7707034728406055\n",
      "Voting accuacy : 0.8201246660730187\n",
      "===============\n",
      "\n",
      "\n",
      "\n",
      "(8982, 18479)\n",
      "(2246, 18479)\n"
     ]
    },
    {
     "name": "stderr",
     "output_type": "stream",
     "text": [
      "/opt/conda/lib/python3.9/site-packages/sklearn/svm/_base.py:1199: ConvergenceWarning: Liblinear failed to converge, increase the number of iterations.\n",
      "  warnings.warn(\n",
      " 67%|██████▋   | 2/3 [1:56:17<57:39, 3459.28s/it]  "
     ]
    },
    {
     "name": "stdout",
     "output_type": "stream",
     "text": [
      "===============\n",
      "num_words : 20000\n",
      "Naive Bayse accuacy : 0.6193232413178985\n",
      "Complement Naive Bayes Classifier accuacy : 0.7671415850400712\n",
      "Logistic Regression accuacy : 0.8156723063223509\n",
      "Linear Support Vector Machine accuacy : 0.7858414959928762\n",
      "Decision Tree accuacy : 0.6211041852181657\n",
      "Random Forest accuacy : 0.6714158504007124\n",
      "GradientBoostingClassifier accuacy : 0.7702582368655387\n",
      "Voting accuacy : 0.8192341941228851\n",
      "===============\n",
      "\n",
      "\n",
      "\n",
      "(8982, 4867)\n",
      "(2246, 4867)\n"
     ]
    },
    {
     "name": "stderr",
     "output_type": "stream",
     "text": [
      "/opt/conda/lib/python3.9/site-packages/sklearn/svm/_base.py:1199: ConvergenceWarning: Liblinear failed to converge, increase the number of iterations.\n",
      "  warnings.warn(\n",
      "100%|██████████| 3/3 [2:38:20<00:00, 3166.89s/it]"
     ]
    },
    {
     "name": "stdout",
     "output_type": "stream",
     "text": [
      "===============\n",
      "num_words : 5000\n",
      "Naive Bayse accuacy : 0.6731967943009796\n",
      "Complement Naive Bayes Classifier accuacy : 0.7707034728406055\n",
      "Logistic Regression accuacy : 0.8036509349955476\n",
      "Linear Support Vector Machine accuacy : 0.769813000890472\n",
      "Decision Tree accuacy : 0.6179875333926982\n",
      "Random Forest accuacy : 0.701246660730187\n",
      "GradientBoostingClassifier accuacy : 0.767586821015138\n",
      "Voting accuacy : 0.8103294746215495\n",
      "===============\n",
      "\n",
      "\n",
      "\n"
     ]
    },
    {
     "name": "stderr",
     "output_type": "stream",
     "text": [
      "\n"
     ]
    }
   ],
   "source": [
    "#20000, 5000\n",
    "X_trains, y_trains, X_tests, y_tests = load_dataset(num_words_list)\n",
    "tfidf_X_trains, tfidf_X_tests = tfidf_transform(X_trains, X_tests)\n",
    "\n",
    "acc = []\n",
    "for i in tqdm(range(3)):\n",
    "    acc.append(test_machine_learning(tfidf_X_trains[i], y_trains[i], tfidf_X_tests[i], y_tests[i], num_words_list[i]))"
   ]
  },
  {
   "cell_type": "code",
   "execution_count": 126,
   "id": "436622b6",
   "metadata": {},
   "outputs": [
    {
     "data": {
      "text/html": [
       "<div>\n",
       "<style scoped>\n",
       "    .dataframe tbody tr th:only-of-type {\n",
       "        vertical-align: middle;\n",
       "    }\n",
       "\n",
       "    .dataframe tbody tr th {\n",
       "        vertical-align: top;\n",
       "    }\n",
       "\n",
       "    .dataframe thead th {\n",
       "        text-align: right;\n",
       "    }\n",
       "</style>\n",
       "<table border=\"1\" class=\"dataframe\">\n",
       "  <thead>\n",
       "    <tr style=\"text-align: right;\">\n",
       "      <th></th>\n",
       "      <th>Naive Bayse</th>\n",
       "      <th>Complement Naive Bayes Classifier</th>\n",
       "      <th>Logistic Regression</th>\n",
       "      <th>Linear Support Vector Machine</th>\n",
       "      <th>Decision Tree</th>\n",
       "      <th>Random Forest</th>\n",
       "      <th>GradientBoostingClassifier</th>\n",
       "      <th>Voting</th>\n",
       "    </tr>\n",
       "  </thead>\n",
       "  <tbody>\n",
       "    <tr>\n",
       "      <th>50000</th>\n",
       "      <td>0.599733</td>\n",
       "      <td>0.764915</td>\n",
       "      <td>0.816563</td>\n",
       "      <td>0.788068</td>\n",
       "      <td>0.621995</td>\n",
       "      <td>0.652716</td>\n",
       "      <td>0.770703</td>\n",
       "      <td>0.820125</td>\n",
       "    </tr>\n",
       "    <tr>\n",
       "      <th>20000</th>\n",
       "      <td>0.619323</td>\n",
       "      <td>0.767142</td>\n",
       "      <td>0.815672</td>\n",
       "      <td>0.785841</td>\n",
       "      <td>0.621104</td>\n",
       "      <td>0.671416</td>\n",
       "      <td>0.770258</td>\n",
       "      <td>0.819234</td>\n",
       "    </tr>\n",
       "    <tr>\n",
       "      <th>5000</th>\n",
       "      <td>0.673197</td>\n",
       "      <td>0.770703</td>\n",
       "      <td>0.803651</td>\n",
       "      <td>0.769813</td>\n",
       "      <td>0.617988</td>\n",
       "      <td>0.701247</td>\n",
       "      <td>0.767587</td>\n",
       "      <td>0.810329</td>\n",
       "    </tr>\n",
       "  </tbody>\n",
       "</table>\n",
       "</div>"
      ],
      "text/plain": [
       "       Naive Bayse  Complement Naive Bayes Classifier  Logistic Regression  \\\n",
       "50000     0.599733                           0.764915             0.816563   \n",
       "20000     0.619323                           0.767142             0.815672   \n",
       "5000      0.673197                           0.770703             0.803651   \n",
       "\n",
       "       Linear Support Vector Machine  Decision Tree  Random Forest  \\\n",
       "50000                       0.788068       0.621995       0.652716   \n",
       "20000                       0.785841       0.621104       0.671416   \n",
       "5000                        0.769813       0.617988       0.701247   \n",
       "\n",
       "       GradientBoostingClassifier    Voting  \n",
       "50000                    0.770703  0.820125  \n",
       "20000                    0.770258  0.819234  \n",
       "5000                     0.767587  0.810329  "
      ]
     },
     "execution_count": 126,
     "metadata": {},
     "output_type": "execute_result"
    }
   ],
   "source": [
    "acc_data = pd.DataFrame(acc, columns=model_list, index=num_words_list)\n",
    "acc_data"
   ]
  },
  {
   "cell_type": "code",
   "execution_count": 128,
   "id": "1bbb04b3",
   "metadata": {},
   "outputs": [
    {
     "name": "stdout",
     "output_type": "stream",
     "text": [
      "2376\n",
      "145.5398574927633\n"
     ]
    },
    {
     "data": {
      "image/png": "[encoded data removed]",
      "text/plain": [
       "<Figure size 432x288 with 1 Axes>"
      ]
     },
     "metadata": {
      "needs_background": "light"
     },
     "output_type": "display_data"
    }
   ],
   "source": [
    "(X_train, y_train), (X_test, y_test) = reuters.load_data(num_words=20000, test_split=0.2)\n",
    "print(max(len(l) for l in x_train))\n",
    "print(sum(map(len, x_train))/len(x_train))\n",
    "\n",
    "plt.hist([len(s) for s in x_train], bins=50)\n",
    "plt.show()"
   ]
  },
  {
   "cell_type": "code",
   "execution_count": 129,
   "id": "0f13ebbc",
   "metadata": {},
   "outputs": [],
   "source": [
    "X_train_temp = X_train\n",
    "y_train_temp = y_train\n",
    "X_test_temp = X_test\n",
    "y_test_temp = y_test\n",
    "for i, (x, y) in enumerate(zip(X_train_temp, y_train_temp)):\n",
    "    if len(x) > 200:\n",
    "        np.delete(X_train, i, axis=0)\n",
    "        np.delete(y_train, i, axis=0)\n",
    "        \n",
    "for i, (x, y) in enumerate(zip(X_test_temp, y_test_temp)):\n",
    "    if len(x) > 200:\n",
    "        np.delete(X_test, i, axis=0)\n",
    "        np.delete(y_test, i, axis=0)"
   ]
  },
  {
   "cell_type": "code",
   "execution_count": 130,
   "id": "a482c08f",
   "metadata": {
    "scrolled": false
   },
   "outputs": [
    {
     "name": "stdout",
     "output_type": "stream",
     "text": [
      "Model: \"sequential_6\"\n",
      "_________________________________________________________________\n",
      "Layer (type)                 Output Shape              Param #   \n",
      "=================================================================\n",
      "embedding_6 (Embedding)      (None, None, 512)         10240000  \n",
      "_________________________________________________________________\n",
      "lstm_12 (LSTM)               (None, None, 512)         2099200   \n",
      "_________________________________________________________________\n",
      "lstm_13 (LSTM)               (None, 256)               787456    \n",
      "_________________________________________________________________\n",
      "dense_12 (Dense)             (None, 256)               65792     \n",
      "_________________________________________________________________\n",
      "dense_13 (Dense)             (None, 46)                11822     \n",
      "=================================================================\n",
      "Total params: 13,204,270\n",
      "Trainable params: 13,204,270\n",
      "Non-trainable params: 0\n",
      "_________________________________________________________________\n",
      "Epoch 1/50\n",
      "18/18 [==============================] - 14s 621ms/step - loss: 2.8246 - accuracy: 0.3098 - val_loss: 2.4363 - val_accuracy: 0.3620\n",
      "Epoch 2/50\n",
      "18/18 [==============================] - 11s 602ms/step - loss: 2.4134 - accuracy: 0.3517 - val_loss: 2.4180 - val_accuracy: 0.3620\n",
      "Epoch 3/50\n",
      "18/18 [==============================] - 11s 610ms/step - loss: 2.4053 - accuracy: 0.3517 - val_loss: 2.4044 - val_accuracy: 0.3620\n",
      "Epoch 4/50\n",
      "18/18 [==============================] - 11s 621ms/step - loss: 2.3510 - accuracy: 0.3631 - val_loss: 2.1282 - val_accuracy: 0.4813\n",
      "Epoch 5/50\n",
      "18/18 [==============================] - 11s 618ms/step - loss: 2.5260 - accuracy: 0.3057 - val_loss: 2.4607 - val_accuracy: 0.3620\n",
      "Epoch 6/50\n",
      "18/18 [==============================] - 11s 608ms/step - loss: 2.4211 - accuracy: 0.3517 - val_loss: 2.4230 - val_accuracy: 0.3620\n",
      "Epoch 7/50\n",
      "18/18 [==============================] - 11s 604ms/step - loss: 2.4083 - accuracy: 0.3517 - val_loss: 2.4162 - val_accuracy: 0.3620\n",
      "Epoch 8/50\n",
      "18/18 [==============================] - 11s 602ms/step - loss: 2.4059 - accuracy: 0.3517 - val_loss: 2.4159 - val_accuracy: 0.3620\n",
      "Epoch 9/50\n",
      "18/18 [==============================] - 11s 604ms/step - loss: 2.4056 - accuracy: 0.3517 - val_loss: 2.4173 - val_accuracy: 0.3620\n",
      "Epoch 10/50\n",
      "18/18 [==============================] - 11s 611ms/step - loss: 2.4052 - accuracy: 0.3517 - val_loss: 2.4137 - val_accuracy: 0.3620\n",
      "Epoch 11/50\n",
      "18/18 [==============================] - 11s 612ms/step - loss: 2.3936 - accuracy: 0.3517 - val_loss: 2.3853 - val_accuracy: 0.3620\n",
      "Epoch 12/50\n",
      "18/18 [==============================] - 11s 610ms/step - loss: 2.2869 - accuracy: 0.3700 - val_loss: 2.1050 - val_accuracy: 0.5018\n",
      "Epoch 13/50\n",
      "18/18 [==============================] - 11s 609ms/step - loss: 2.0234 - accuracy: 0.4964 - val_loss: 2.0223 - val_accuracy: 0.4328\n",
      "Epoch 14/50\n",
      "18/18 [==============================] - 11s 610ms/step - loss: 1.9660 - accuracy: 0.5038 - val_loss: 1.9642 - val_accuracy: 0.4929\n",
      "Epoch 15/50\n",
      "18/18 [==============================] - 11s 609ms/step - loss: 1.8379 - accuracy: 0.5210 - val_loss: 1.8275 - val_accuracy: 0.5414\n",
      "Epoch 16/50\n",
      "18/18 [==============================] - 11s 614ms/step - loss: 1.7066 - accuracy: 0.5592 - val_loss: 1.8260 - val_accuracy: 0.5378\n",
      "Epoch 17/50\n",
      "18/18 [==============================] - 11s 611ms/step - loss: 1.6360 - accuracy: 0.5780 - val_loss: 1.8037 - val_accuracy: 0.5490\n",
      "Epoch 18/50\n",
      "18/18 [==============================] - 11s 614ms/step - loss: 1.5863 - accuracy: 0.5859 - val_loss: 1.8004 - val_accuracy: 0.5280\n",
      "Epoch 19/50\n",
      "18/18 [==============================] - 11s 611ms/step - loss: 1.5313 - accuracy: 0.6047 - val_loss: 1.8021 - val_accuracy: 0.5467\n",
      "Epoch 20/50\n",
      "18/18 [==============================] - 11s 610ms/step - loss: 1.4902 - accuracy: 0.6225 - val_loss: 1.7821 - val_accuracy: 0.5570\n",
      "Epoch 21/50\n",
      "18/18 [==============================] - 11s 610ms/step - loss: 1.4425 - accuracy: 0.6337 - val_loss: 1.7783 - val_accuracy: 0.5623\n",
      "Epoch 22/50\n",
      "18/18 [==============================] - 11s 611ms/step - loss: 1.3963 - accuracy: 0.6504 - val_loss: 1.8023 - val_accuracy: 0.5610\n",
      "Epoch 23/50\n",
      "18/18 [==============================] - 11s 612ms/step - loss: 1.3502 - accuracy: 0.6568 - val_loss: 1.7825 - val_accuracy: 0.5508\n",
      "Epoch 24/50\n",
      "18/18 [==============================] - 11s 611ms/step - loss: 1.3262 - accuracy: 0.6633 - val_loss: 1.9002 - val_accuracy: 0.5223\n",
      "Epoch 25/50\n",
      "18/18 [==============================] - 11s 608ms/step - loss: 1.4530 - accuracy: 0.6293 - val_loss: 1.7710 - val_accuracy: 0.5534\n",
      "Epoch 26/50\n",
      "18/18 [==============================] - 11s 608ms/step - loss: 1.3395 - accuracy: 0.6582 - val_loss: 1.7386 - val_accuracy: 0.5752\n",
      "Epoch 27/50\n",
      "18/18 [==============================] - 11s 605ms/step - loss: 1.2706 - accuracy: 0.6788 - val_loss: 1.8164 - val_accuracy: 0.5525\n",
      "Epoch 28/50\n",
      "18/18 [==============================] - 11s 608ms/step - loss: 1.2208 - accuracy: 0.6825 - val_loss: 1.7897 - val_accuracy: 0.5646\n",
      "Epoch 29/50\n",
      "18/18 [==============================] - 11s 611ms/step - loss: 1.1732 - accuracy: 0.6941 - val_loss: 1.8258 - val_accuracy: 0.5646\n",
      "Epoch 30/50\n",
      "18/18 [==============================] - 11s 609ms/step - loss: 1.1485 - accuracy: 0.6998 - val_loss: 1.8859 - val_accuracy: 0.5552\n",
      "Epoch 31/50\n",
      "18/18 [==============================] - 11s 608ms/step - loss: 1.1126 - accuracy: 0.7085 - val_loss: 1.8300 - val_accuracy: 0.5628\n",
      "Epoch 32/50\n",
      "18/18 [==============================] - 11s 607ms/step - loss: 1.0790 - accuracy: 0.7152 - val_loss: 1.8427 - val_accuracy: 0.5677\n",
      "Epoch 33/50\n",
      "18/18 [==============================] - 11s 606ms/step - loss: 1.0510 - accuracy: 0.7203 - val_loss: 1.9058 - val_accuracy: 0.5619\n",
      "Epoch 34/50\n",
      "18/18 [==============================] - 11s 609ms/step - loss: 1.0109 - accuracy: 0.7352 - val_loss: 1.9069 - val_accuracy: 0.5677\n",
      "Epoch 35/50\n",
      "18/18 [==============================] - 11s 605ms/step - loss: 0.9773 - accuracy: 0.7429 - val_loss: 1.9977 - val_accuracy: 0.5712\n",
      "Epoch 36/50\n",
      "18/18 [==============================] - 11s 608ms/step - loss: 0.9585 - accuracy: 0.7481 - val_loss: 1.9947 - val_accuracy: 0.5775\n",
      "Epoch 37/50\n",
      "18/18 [==============================] - 11s 607ms/step - loss: 0.9401 - accuracy: 0.7518 - val_loss: 1.9840 - val_accuracy: 0.5699\n",
      "Epoch 38/50\n",
      "18/18 [==============================] - 11s 608ms/step - loss: 0.9152 - accuracy: 0.7578 - val_loss: 2.0226 - val_accuracy: 0.5686\n",
      "Epoch 39/50\n",
      "18/18 [==============================] - 11s 611ms/step - loss: 0.8867 - accuracy: 0.7648 - val_loss: 2.0250 - val_accuracy: 0.5721\n",
      "Epoch 40/50\n",
      "18/18 [==============================] - 11s 607ms/step - loss: 0.8596 - accuracy: 0.7762 - val_loss: 2.0625 - val_accuracy: 0.5730\n",
      "Epoch 41/50\n",
      "18/18 [==============================] - 11s 608ms/step - loss: 0.8554 - accuracy: 0.7743 - val_loss: 2.0533 - val_accuracy: 0.5757\n",
      "Epoch 42/50\n",
      "18/18 [==============================] - 11s 612ms/step - loss: 0.8239 - accuracy: 0.7842 - val_loss: 2.0663 - val_accuracy: 0.5766\n",
      "Epoch 43/50\n",
      "18/18 [==============================] - 11s 610ms/step - loss: 0.7934 - accuracy: 0.7919 - val_loss: 2.0916 - val_accuracy: 0.5735\n",
      "Epoch 44/50\n",
      "18/18 [==============================] - 11s 607ms/step - loss: 0.7756 - accuracy: 0.7973 - val_loss: 2.1703 - val_accuracy: 0.5775\n",
      "Epoch 45/50\n",
      "18/18 [==============================] - 11s 611ms/step - loss: 0.7435 - accuracy: 0.7993 - val_loss: 2.1670 - val_accuracy: 0.5873\n",
      "Epoch 46/50\n",
      "18/18 [==============================] - 11s 610ms/step - loss: 0.7316 - accuracy: 0.8039 - val_loss: 2.2183 - val_accuracy: 0.5721\n",
      "Epoch 47/50\n",
      "18/18 [==============================] - 11s 607ms/step - loss: 0.7299 - accuracy: 0.8022 - val_loss: 2.2051 - val_accuracy: 0.5824\n",
      "Epoch 48/50\n",
      "18/18 [==============================] - 11s 610ms/step - loss: 0.7033 - accuracy: 0.8084 - val_loss: 2.2968 - val_accuracy: 0.5855\n",
      "Epoch 49/50\n",
      "18/18 [==============================] - 11s 605ms/step - loss: 0.6805 - accuracy: 0.8173 - val_loss: 2.2347 - val_accuracy: 0.5801\n",
      "Epoch 50/50\n",
      "18/18 [==============================] - 11s 607ms/step - loss: 0.6490 - accuracy: 0.8233 - val_loss: 2.2474 - val_accuracy: 0.5864\n"
     ]
    },
    {
     "data": {
      "image/png": "[encoded data removed]",
      "text/plain": [
       "<Figure size 432x288 with 1 Axes>"
      ]
     },
     "metadata": {
      "needs_background": "light"
     },
     "output_type": "display_data"
    },
    {
     "data": {
      "image/png": "[encoded data removed]",
      "text/plain": [
       "<Figure size 432x288 with 1 Axes>"
      ]
     },
     "metadata": {
      "needs_background": "light"
     },
     "output_type": "display_data"
    }
   ],
   "source": [
    "num_classes = max(y_train) + 1\n",
    "\n",
    "X_train = tf.keras.preprocessing.sequence.pad_sequences(X_train,\n",
    "                                                        padding=\"pre\", \n",
    "                                                        maxlen=200)\n",
    "X_test = tf.keras.preprocessing.sequence.pad_sequences(X_test, \n",
    "                                                        padding=\"pre\", \n",
    "                                                        maxlen=200)\n",
    "y_train = tf.one_hot(y_train, num_classes)\n",
    "y_test = tf.one_hot(y_test, num_classes)\n",
    "\n",
    "model = tf.keras.Sequential()\n",
    "\n",
    "model.add(tf.keras.layers.Embedding(20000, 512))\n",
    "model.add(tf.keras.layers.LSTM(512, return_sequences=True))\n",
    "model.add(tf.keras.layers.LSTM(256))\n",
    "model.add(tf.keras.layers.Dense(256, activation=\"relu\"))\n",
    "model.add(tf.keras.layers.Dense(num_classes, activation=\"softmax\"))\n",
    "model.summary()\n",
    "\n",
    "model.compile(optimizer='adam',\n",
    "              loss='categorical_crossentropy',\n",
    "              metrics=['accuracy'])\n",
    "\n",
    "history = model.fit(X_train, y_train, epochs=50, batch_size=512, validation_data=(X_test, y_test))\n",
    "\n",
    "accuarcy = history.history[\"accuracy\"]\n",
    "loss = history.history[\"loss\"]\n",
    "valid_acc = history.history[\"val_accuracy\"]\n",
    "valid_loss = history.history[\"val_loss\"]\n",
    "\n",
    "plt.plot(accuarcy, label=\"train\")\n",
    "plt.plot(valid_acc, label=\"valid\")\n",
    "plt.title(\"accuarcy\")\n",
    "plt.legend()\n",
    "plt.show()\n",
    "\n",
    "plt.plot(loss, label=\"train\")\n",
    "plt.plot(valid_loss, label=\"valid\")\n",
    "plt.title(\"loss\")\n",
    "plt.legend()\n",
    "plt.show()"
   ]
  },
  {
   "cell_type": "code",
   "execution_count": 127,
   "id": "1667047e",
   "metadata": {
    "scrolled": true
   },
   "outputs": [
    {
     "data": {
      "image/png": "[encoded data removed]",
      "text/plain": [
       "<Figure size 1440x360 with 1 Axes>"
      ]
     },
     "metadata": {
      "needs_background": "light"
     },
     "output_type": "display_data"
    }
   ],
   "source": [
    "acc_data = acc_data.transpose()\n",
    "plt.figure(figsize=(20, 5))\n",
    "plt.plot(acc_data, label=num_words_list)\n",
    "plt.legend()\n",
    "plt.show()"
   ]
  },
  {
   "cell_type": "code",
   "execution_count": null,
   "id": "cacbf96d",
   "metadata": {},
   "outputs": [],
   "source": []
  }
 ],
 "metadata": {
  "kernelspec": {
   "display_name": "Python 3 (ipykernel)",
   "language": "python",
   "name": "python3"
  },
  "language_info": {
   "codemirror_mode": {
    "name": "ipython",
    "version": 3
   },
   "file_extension": ".py",
   "mimetype": "text/x-python",
   "name": "python",
   "nbconvert_exporter": "python",
   "pygments_lexer": "ipython3",
   "version": "3.9.7"
  }
 },
 "nbformat": 4,
 "nbformat_minor": 5
}
