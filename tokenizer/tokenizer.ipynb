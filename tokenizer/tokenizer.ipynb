{
 "cells": [
  {
   "cell_type": "code",
   "execution_count": 1,
   "id": "8932321d",
   "metadata": {},
   "outputs": [],
   "source": [
    "import tensorflow as tf\n",
    "import numpy as np\n",
    "import matplotlib.pyplot as plt\n",
    "import sentencepiece as spm\n",
    "import pandas as pd\n",
    "import konlpy\n",
    "import re\n",
    "from collections import Counter"
   ]
  },
  {
   "cell_type": "code",
   "execution_count": 2,
   "id": "6e8b19fc",
   "metadata": {},
   "outputs": [],
   "source": [
    "train_data = pd.read_table(\"./data/ratings_test.txt\")\n",
    "test_data = pd.read_table(\"./data/ratings_train.txt\")"
   ]
  },
  {
   "cell_type": "code",
   "execution_count": 3,
   "id": "9920d5a1",
   "metadata": {},
   "outputs": [
    {
     "data": {
      "text/html": [
       "<div>\n",
       "<style scoped>\n",
       "    .dataframe tbody tr th:only-of-type {\n",
       "        vertical-align: middle;\n",
       "    }\n",
       "\n",
       "    .dataframe tbody tr th {\n",
       "        vertical-align: top;\n",
       "    }\n",
       "\n",
       "    .dataframe thead th {\n",
       "        text-align: right;\n",
       "    }\n",
       "</style>\n",
       "<table border=\"1\" class=\"dataframe\">\n",
       "  <thead>\n",
       "    <tr style=\"text-align: right;\">\n",
       "      <th></th>\n",
       "      <th>id</th>\n",
       "      <th>document</th>\n",
       "      <th>label</th>\n",
       "    </tr>\n",
       "  </thead>\n",
       "  <tbody>\n",
       "    <tr>\n",
       "      <th>25857</th>\n",
       "      <td>2172111</td>\n",
       "      <td>NaN</td>\n",
       "      <td>1</td>\n",
       "    </tr>\n",
       "    <tr>\n",
       "      <th>55737</th>\n",
       "      <td>6369843</td>\n",
       "      <td>NaN</td>\n",
       "      <td>1</td>\n",
       "    </tr>\n",
       "    <tr>\n",
       "      <th>110014</th>\n",
       "      <td>1034280</td>\n",
       "      <td>NaN</td>\n",
       "      <td>0</td>\n",
       "    </tr>\n",
       "    <tr>\n",
       "      <th>126782</th>\n",
       "      <td>5942978</td>\n",
       "      <td>NaN</td>\n",
       "      <td>0</td>\n",
       "    </tr>\n",
       "    <tr>\n",
       "      <th>140721</th>\n",
       "      <td>1034283</td>\n",
       "      <td>NaN</td>\n",
       "      <td>0</td>\n",
       "    </tr>\n",
       "  </tbody>\n",
       "</table>\n",
       "</div>"
      ],
      "text/plain": [
       "             id document  label\n",
       "25857   2172111      NaN      1\n",
       "55737   6369843      NaN      1\n",
       "110014  1034280      NaN      0\n",
       "126782  5942978      NaN      0\n",
       "140721  1034283      NaN      0"
      ]
     },
     "execution_count": 3,
     "metadata": {},
     "output_type": "execute_result"
    }
   ],
   "source": [
    "train_data[train_data[\"document\"].isnull()]\n",
    "test_data[test_data[\"document\"].isnull()]"
   ]
  },
  {
   "cell_type": "code",
   "execution_count": 4,
   "id": "db1f598c",
   "metadata": {},
   "outputs": [],
   "source": [
    "train_data = train_data.dropna(axis=0)\n",
    "sentences = train_data[\"document\"]\n",
    "label = train_data[\"label\"]"
   ]
  },
  {
   "cell_type": "code",
   "execution_count": 5,
   "id": "16db4d62",
   "metadata": {
    "scrolled": true
   },
   "outputs": [
    {
     "data": {
      "image/png": "[encoded data removed]",
      "text/plain": [
       "<Figure size 432x288 with 1 Axes>"
      ]
     },
     "metadata": {
      "needs_background": "light"
     },
     "output_type": "display_data"
    }
   ],
   "source": [
    "length = [len(sentence) for sentence in sentences]\n",
    "\n",
    "plt.hist(length, bins=50)\n",
    "plt.title(\"length\")\n",
    "plt.show()"
   ]
  },
  {
   "cell_type": "code",
   "execution_count": 6,
   "id": "805b8485",
   "metadata": {},
   "outputs": [],
   "source": [
    "#소문자 변경\n",
    "# ........ 두개로 통일\n",
    "# !!!!!!! 하나로 통일\n",
    "#??????? 하나로 통일\n",
    "# ㅋㅋㅋㅋㅋㅋ 두개로 통일\n",
    "# \"\"\" 하나로 통일\n",
    "#ㅠㅠㅠㅠㅠㅠ 하나로 통일\n",
    "#ㅜㅜㅜㅜㅜ하나로 통일\n",
    "# 이외의 특수문자, 한글 영어 아닌 다른 문자 제거\n",
    "\n",
    "\n",
    "def preprocess(sentence):\n",
    "    sentence = re.sub(r\"[^\\uAC00-\\uD7A30-9a-zA-Z\\s.,?!\\'\\\"]\", \"\", sentence)\n",
    "    sentence = re.sub(\"ㅋ+\", \"ㅋㅋ\", sentence)\n",
    "    sentence = re.sub(\"ㅎ+\", \"ㅎㅎ\", sentence)\n",
    "    sentence = re.sub(\"ㅜ+\", \"ㅜ\", sentence)\n",
    "    sentence = re.sub(\"ㅠ+\", \"ㅠ\", sentence)\n",
    "    sentence = re.sub(\"\\\"+\", \"\\\"\", sentence)\n",
    "    sentence = re.sub(r\"\\.+\", \"..\", sentence)\n",
    "    sentence = re.sub(\"!+\", \"!\", sentence)\n",
    "    sentence = re.sub(\"\\?+\", \"?\", sentence)\n",
    "    sentence.lower().strip()\n",
    "    \n",
    "    return sentence"
   ]
  },
  {
   "cell_type": "code",
   "execution_count": 7,
   "id": "a281a9cc",
   "metadata": {},
   "outputs": [
    {
     "name": "stdout",
     "output_type": "stream",
     "text": [
      "뭐야 이 평점들은..?!\n"
     ]
    }
   ],
   "source": [
    "print(preprocess(\"뭐야 이 평점들은....%&#####ㅋㅋㅋㅋㅋㅋㅋㅋㅋㅋㅋ$$$$&*ㅠㅠㅠㅠㅠㅠ??????@!!!!!!\"))"
   ]
  },
  {
   "cell_type": "code",
   "execution_count": 8,
   "id": "74968621",
   "metadata": {},
   "outputs": [],
   "source": [
    "corpus = []\n",
    "labels = []\n",
    "for i, sentence in enumerate(sentences):\n",
    "    if len(sentence) < 60:\n",
    "        corpus.append(preprocess(sentence))\n",
    "        labels.append(label.iloc[i])\n",
    "        \n",
    "y_train = np.array(labels)"
   ]
  },
  {
   "cell_type": "code",
   "execution_count": 9,
   "id": "c7d2a7fb",
   "metadata": {},
   "outputs": [
    {
     "name": "stderr",
     "output_type": "stream",
     "text": [
      "sentencepiece_trainer.cc(177) LOG(INFO) Running command: --input=./data/film_review.train.ko.temp --model_prefix=korean_spm --vocab_size=20000\n",
      "sentencepiece_trainer.cc(77) LOG(INFO) Starts training with : \n",
      "trainer_spec {\n",
      "  input: ./data/film_review.train.ko.temp\n",
      "  input_format: \n",
      "  model_prefix: korean_spm\n",
      "  model_type: UNIGRAM\n",
      "  vocab_size: 20000\n",
      "  self_test_sample_size: 0\n",
      "  character_coverage: 0.9995\n",
      "  input_sentence_size: 0\n",
      "  shuffle_input_sentence: 1\n",
      "  seed_sentencepiece_size: 1000000\n",
      "  shrinking_factor: 0.75\n",
      "  max_sentence_length: 4192\n",
      "  num_threads: 16\n",
      "  num_sub_iterations: 2\n",
      "  max_sentencepiece_length: 16\n",
      "  split_by_unicode_script: 1\n",
      "  split_by_number: 1\n",
      "  split_by_whitespace: 1\n",
      "  split_digits: 0\n",
      "  treat_whitespace_as_suffix: 0\n",
      "  allow_whitespace_only_pieces: 0\n",
      "  required_chars: \n",
      "  byte_fallback: 0\n",
      "  vocabulary_output_piece_score: 1\n",
      "  train_extremely_large_corpus: 0\n",
      "  hard_vocab_limit: 1\n",
      "  use_all_vocab: 0\n",
      "  unk_id: 0\n",
      "  bos_id: 1\n",
      "  eos_id: 2\n",
      "  pad_id: -1\n",
      "  unk_piece: <unk>\n",
      "  bos_piece: <s>\n",
      "  eos_piece: </s>\n",
      "  pad_piece: <pad>\n",
      "  unk_surface:  ⁇ \n",
      "}\n",
      "normalizer_spec {\n",
      "  name: nmt_nfkc\n",
      "  add_dummy_prefix: 1\n",
      "  remove_extra_whitespaces: 1\n",
      "  escape_whitespaces: 1\n",
      "  normalization_rule_tsv: \n",
      "}\n",
      "denormalizer_spec {}\n",
      "trainer_interface.cc(329) LOG(INFO) SentenceIterator is not specified. Using MultiFileSentenceIterator.\n",
      "trainer_interface.cc(178) LOG(INFO) Loading corpus: ./data/film_review.train.ko.temp\n",
      "trainer_interface.cc(385) LOG(INFO) Loaded all 42734 sentences\n",
      "trainer_interface.cc(400) LOG(INFO) Adding meta_piece: <unk>\n",
      "trainer_interface.cc(400) LOG(INFO) Adding meta_piece: <s>\n",
      "trainer_interface.cc(400) LOG(INFO) Adding meta_piece: </s>\n",
      "trainer_interface.cc(405) LOG(INFO) Normalizing sentences...\n",
      "trainer_interface.cc(466) LOG(INFO) all chars count=1085809\n",
      "trainer_interface.cc(477) LOG(INFO) Done: 99.9501% characters are covered.\n",
      "trainer_interface.cc(487) LOG(INFO) Alphabet size=1531\n",
      "trainer_interface.cc(488) LOG(INFO) Final character coverage=0.999501\n",
      "trainer_interface.cc(520) LOG(INFO) Done! preprocessed 42732 sentences.\n",
      "unigram_model_trainer.cc(139) LOG(INFO) Making suffix array...\n",
      "unigram_model_trainer.cc(143) LOG(INFO) Extracting frequent sub strings...\n",
      "unigram_model_trainer.cc(194) LOG(INFO) Initialized 85077 seed sentencepieces\n",
      "trainer_interface.cc(526) LOG(INFO) Tokenizing input sentences with whitespace: 42732\n",
      "trainer_interface.cc(537) LOG(INFO) Done! 92095\n",
      "unigram_model_trainer.cc(489) LOG(INFO) Using 92095 sentences for EM training\n",
      "unigram_model_trainer.cc(505) LOG(INFO) EM sub_iter=0 size=47497 obj=15.2685 num_tokens=214326 num_tokens/piece=4.51241\n",
      "unigram_model_trainer.cc(505) LOG(INFO) EM sub_iter=1 size=44402 obj=14.2721 num_tokens=215891 num_tokens/piece=4.86219\n",
      "unigram_model_trainer.cc(505) LOG(INFO) EM sub_iter=0 size=33294 obj=14.4982 num_tokens=227501 num_tokens/piece=6.83309\n",
      "unigram_model_trainer.cc(505) LOG(INFO) EM sub_iter=1 size=33255 obj=14.4131 num_tokens=227674 num_tokens/piece=6.84631\n",
      "unigram_model_trainer.cc(505) LOG(INFO) EM sub_iter=0 size=24941 obj=14.7893 num_tokens=242267 num_tokens/piece=9.7136\n",
      "unigram_model_trainer.cc(505) LOG(INFO) EM sub_iter=1 size=24939 obj=14.6945 num_tokens=242368 num_tokens/piece=9.71843\n",
      "unigram_model_trainer.cc(505) LOG(INFO) EM sub_iter=0 size=22000 obj=14.8544 num_tokens=248467 num_tokens/piece=11.294\n",
      "unigram_model_trainer.cc(505) LOG(INFO) EM sub_iter=1 size=22000 obj=14.8151 num_tokens=248487 num_tokens/piece=11.2949\n",
      "trainer_interface.cc(615) LOG(INFO) Saving model: korean_spm.model\n",
      "trainer_interface.cc(626) LOG(INFO) Saving vocabs: korean_spm.vocab\n"
     ]
    }
   ],
   "source": [
    "vocab_size = 20000\n",
    "with open(\"./data/film_review.train.ko.temp\", \"w\") as f:\n",
    "    for row in corpus:\n",
    "        f.write(row + \"\\n\")\n",
    "spm.SentencePieceTrainer.Train(\n",
    "    \"--input={} --model_prefix=korean_spm --vocab_size={}\".format(\"./data/film_review.train.ko.temp\", vocab_size)\n",
    ")"
   ]
  },
  {
   "cell_type": "code",
   "execution_count": 10,
   "id": "6755a31c",
   "metadata": {},
   "outputs": [
    {
     "data": {
      "text/plain": [
       "True"
      ]
     },
     "execution_count": 10,
     "metadata": {},
     "output_type": "execute_result"
    }
   ],
   "source": [
    "s = spm.SentencePieceProcessor()\n",
    "s.Load(\"korean_spm.model\")"
   ]
  },
  {
   "cell_type": "code",
   "execution_count": 11,
   "id": "e1a203f2",
   "metadata": {},
   "outputs": [],
   "source": [
    "def sp_tokenizer(s, corpus):\n",
    "    tensor = []\n",
    "    for sentence in corpus:\n",
    "        tensor.append(s.EncodeAsIds(sentence))\n",
    "    \n",
    "    with open(\"./korean_spm.vocab\", \"r\") as f:\n",
    "        vocab = f.readlines()\n",
    "        \n",
    "    word_index = {}\n",
    "    index_word = {}\n",
    "    \n",
    "    for i, line in enumerate(vocab):\n",
    "        word = line.split(\"\\t\")[0]\n",
    "        word_index[word] = i\n",
    "        index_word[i] = word\n",
    "        \n",
    "    return tensor, word_index, index_word"
   ]
  },
  {
   "cell_type": "code",
   "execution_count": 12,
   "id": "40e88181",
   "metadata": {},
   "outputs": [],
   "source": [
    "tensor, word_index, index_word = sp_tokenizer(s, corpus)"
   ]
  },
  {
   "cell_type": "code",
   "execution_count": 13,
   "id": "8d395dca",
   "metadata": {},
   "outputs": [],
   "source": [
    "from sklearn.model_selection import train_test_split\n",
    "\n",
    "X_train, X_test, y_train, y_test = train_test_split(tensor, y_train, test_size = 0.3, random_state=43)"
   ]
  },
  {
   "cell_type": "code",
   "execution_count": 14,
   "id": "6c934bb6",
   "metadata": {},
   "outputs": [],
   "source": [
    "maxlen = 59\n",
    "X_train = tf.keras.preprocessing.sequence.pad_sequences(X_train,\n",
    "                                                        padding=\"pre\", \n",
    "                                                        maxlen=maxlen)\n",
    "X_test = tf.keras.preprocessing.sequence.pad_sequences(X_test, \n",
    "                                                        padding=\"pre\", \n",
    "                                                        maxlen=maxlen)"
   ]
  },
  {
   "cell_type": "code",
   "execution_count": 15,
   "id": "723a4bb1",
   "metadata": {},
   "outputs": [
    {
     "name": "stdout",
     "output_type": "stream",
     "text": [
      "Epoch 1/3\n",
      "59/59 [==============================] - 13s 80ms/step - loss: 0.6932 - accuracy: 0.5042 - val_loss: 0.6929 - val_accuracy: 0.5062\n",
      "Epoch 2/3\n",
      "59/59 [==============================] - 3s 50ms/step - loss: 0.6288 - accuracy: 0.6284 - val_loss: 0.5488 - val_accuracy: 0.7195\n",
      "Epoch 3/3\n",
      "59/59 [==============================] - 3s 50ms/step - loss: 0.3728 - accuracy: 0.8405 - val_loss: 0.4413 - val_accuracy: 0.8025\n"
     ]
    },
    {
     "data": {
      "image/png": "[encoded data removed]",
      "text/plain": [
       "<Figure size 432x288 with 1 Axes>"
      ]
     },
     "metadata": {
      "needs_background": "light"
     },
     "output_type": "display_data"
    },
    {
     "data": {
      "image/png": "[encoded data removed]",
      "text/plain": [
       "<Figure size 432x288 with 1 Axes>"
      ]
     },
     "metadata": {
      "needs_background": "light"
     },
     "output_type": "display_data"
    }
   ],
   "source": [
    "model = tf.keras.Sequential()\n",
    "\n",
    "model.add(tf.keras.layers.Embedding(vocab_size, 128))\n",
    "model.add(tf.keras.layers.LSTM(128, return_sequences=True))\n",
    "model.add(tf.keras.layers.LSTM(128, return_sequences=True))\n",
    "model.add(tf.keras.layers.LSTM(64, return_sequences=True))\n",
    "model.add(tf.keras.layers.LSTM(64, return_sequences=True))\n",
    "model.add(tf.keras.layers.LSTM(64, return_sequences=True))\n",
    "model.add(tf.keras.layers.LSTM(32))\n",
    "model.add(tf.keras.layers.Dense(16, activation=\"relu\"))\n",
    "model.add(tf.keras.layers.Dense(1, activation=\"sigmoid\"))\n",
    "\n",
    "model.compile(optimizer='adam',\n",
    "              loss='binary_crossentropy',\n",
    "              metrics=['accuracy'])\n",
    "\n",
    "history = model.fit(X_train, y_train, epochs=3, batch_size=512, validation_data=(X_test, y_test))\n",
    "\n",
    "accuarcy = history.history[\"accuracy\"]\n",
    "loss = history.history[\"loss\"]\n",
    "valid_acc = history.history[\"val_accuracy\"]\n",
    "valid_loss = history.history[\"val_loss\"]\n",
    "\n",
    "plt.plot(accuarcy, label=\"train\")\n",
    "plt.plot(valid_acc, label=\"valid\")\n",
    "plt.title(\"accuarcy\")\n",
    "plt.legend()\n",
    "plt.show()\n",
    "\n",
    "plt.plot(loss, label=\"train\")\n",
    "plt.plot(valid_loss, label=\"valid\")\n",
    "plt.title(\"loss\")\n",
    "plt.legend()\n",
    "plt.show()"
   ]
  },
  {
   "cell_type": "code",
   "execution_count": 130,
   "id": "b1cf1aa0",
   "metadata": {},
   "outputs": [],
   "source": [
    "def konlpy_tokenizer(tokenizer, corpus):\n",
    "    words = []\n",
    "    for c in corpus:\n",
    "        words += tokenizer.morphs(c)\n",
    "    counter = Counter(words)\n",
    "    counter = counter.most_common(20000-2)\n",
    "\n",
    "    words = [\"<pad>\", \"<unk>\"] + [key for key, _ in counter]\n",
    "    word_to_index = {word : index for index, word in enumerate(words)}\n",
    "    tensor = []\n",
    "\n",
    "    for c in corpus:\n",
    "        temp = []\n",
    "        for s in c.split():\n",
    "            if s in words:\n",
    "                temp.append(word_to_index[s])\n",
    "            else:\n",
    "                temp.append(word_to_index[\"<unk>\"])\n",
    "        tensor.append(temp)\n",
    "    \n",
    "    return tensor"
   ]
  },
  {
   "cell_type": "code",
   "execution_count": 131,
   "id": "2c5a8523",
   "metadata": {},
   "outputs": [
    {
     "name": "stdout",
     "output_type": "stream",
     "text": [
      "Epoch 1/3\n",
      "59/59 [==============================] - 27s 127ms/step - loss: 0.6974 - accuracy: 0.5034 - val_loss: 0.6933 - val_accuracy: 0.5069\n",
      "Epoch 2/3\n",
      "59/59 [==============================] - 3s 50ms/step - loss: 0.6920 - accuracy: 0.5152 - val_loss: 0.6879 - val_accuracy: 0.5457\n",
      "Epoch 3/3\n",
      "59/59 [==============================] - 3s 50ms/step - loss: 0.6452 - accuracy: 0.6102 - val_loss: 0.6254 - val_accuracy: 0.6269\n"
     ]
    },
    {
     "data": {
      "image/png": "[encoded data removed]",
      "text/plain": [
       "<Figure size 432x288 with 1 Axes>"
      ]
     },
     "metadata": {
      "needs_background": "light"
     },
     "output_type": "display_data"
    },
    {
     "data": {
      "image/png": "[encoded data removed]",
      "text/plain": [
       "<Figure size 432x288 with 1 Axes>"
      ]
     },
     "metadata": {
      "needs_background": "light"
     },
     "output_type": "display_data"
    }
   ],
   "source": [
    "tokenizer = konlpy.tag.Mecab()\n",
    "\n",
    "tensor = konlpy_tokenizer(tokenizer, corpus)\n",
    "\n",
    "y_train = np.array(labels)\n",
    "X_train, X_test, y_train, y_test = train_test_split(tensor, y_train, test_size = 0.3, random_state=43)\n",
    "\n",
    "X_train = tf.keras.preprocessing.sequence.pad_sequences(X_train,\n",
    "                                                        padding=\"pre\", \n",
    "                                                        maxlen=maxlen)\n",
    "X_test = tf.keras.preprocessing.sequence.pad_sequences(X_test, \n",
    "                                                        padding=\"pre\", \n",
    "                                                        maxlen=maxlen)\n",
    "model.compile(optimizer='adam',\n",
    "              loss='binary_crossentropy',\n",
    "              metrics=['accuracy'])\n",
    "\n",
    "history = model.fit(X_train, y_train, epochs=3, batch_size=512, validation_data=(X_test, y_test))\n",
    "\n",
    "accuarcy = history.history[\"accuracy\"]\n",
    "loss = history.history[\"loss\"]\n",
    "valid_acc = history.history[\"val_accuracy\"]\n",
    "valid_loss = history.history[\"val_loss\"]\n",
    "\n",
    "plt.plot(accuarcy, label=\"train\")\n",
    "plt.plot(valid_acc, label=\"valid\")\n",
    "plt.title(\"accuarcy\")\n",
    "plt.legend()\n",
    "plt.show()\n",
    "\n",
    "plt.plot(loss, label=\"train\")\n",
    "plt.plot(valid_loss, label=\"valid\")\n",
    "plt.title(\"loss\")\n",
    "plt.legend()\n",
    "plt.show()"
   ]
  },
  {
   "cell_type": "code",
   "execution_count": 133,
   "id": "52ce1b9c",
   "metadata": {},
   "outputs": [
    {
     "name": "stdout",
     "output_type": "stream",
     "text": [
      "Epoch 1/3\n",
      "59/59 [==============================] - 31s 178ms/step - loss: 0.6916 - accuracy: 0.5366 - val_loss: 0.6715 - val_accuracy: 0.5842\n",
      "Epoch 2/3\n",
      "59/59 [==============================] - 3s 50ms/step - loss: 0.5845 - accuracy: 0.6832 - val_loss: 0.5831 - val_accuracy: 0.6673\n",
      "Epoch 3/3\n",
      "59/59 [==============================] - 3s 51ms/step - loss: 0.4659 - accuracy: 0.7607 - val_loss: 0.5996 - val_accuracy: 0.6844\n"
     ]
    },
    {
     "data": {
      "image/png": "[encoded data removed]",
      "text/plain": [
       "<Figure size 432x288 with 1 Axes>"
      ]
     },
     "metadata": {
      "needs_background": "light"
     },
     "output_type": "display_data"
    },
    {
     "data": {
      "image/png": "[encoded data removed]",
      "text/plain": [
       "<Figure size 432x288 with 1 Axes>"
      ]
     },
     "metadata": {
      "needs_background": "light"
     },
     "output_type": "display_data"
    }
   ],
   "source": [
    "tokenizer = konlpy.tag.Okt()\n",
    "\n",
    "tensor = konlpy_tokenizer(tokenizer, corpus)\n",
    "\n",
    "y_train = np.array(labels)\n",
    "X_train, X_test, y_train, y_test = train_test_split(tensor, y_train, test_size = 0.3, random_state=43)\n",
    "\n",
    "X_train = tf.keras.preprocessing.sequence.pad_sequences(X_train,\n",
    "                                                        padding=\"pre\", \n",
    "                                                        maxlen=maxlen)\n",
    "X_test = tf.keras.preprocessing.sequence.pad_sequences(X_test, \n",
    "                                                        padding=\"pre\", \n",
    "                                                        maxlen=maxlen)\n",
    "model.compile(optimizer='adam',\n",
    "              loss='binary_crossentropy',\n",
    "              metrics=['accuracy'])\n",
    "\n",
    "history = model.fit(X_train, y_train, epochs=3, batch_size=512, validation_data=(X_test, y_test))\n",
    "\n",
    "accuarcy = history.history[\"accuracy\"]\n",
    "loss = history.history[\"loss\"]\n",
    "valid_acc = history.history[\"val_accuracy\"]\n",
    "valid_loss = history.history[\"val_loss\"]\n",
    "\n",
    "plt.plot(accuarcy, label=\"train\")\n",
    "plt.plot(valid_acc, label=\"valid\")\n",
    "plt.title(\"accuarcy\")\n",
    "plt.legend()\n",
    "plt.show()\n",
    "\n",
    "plt.plot(loss, label=\"train\")\n",
    "plt.plot(valid_loss, label=\"valid\")\n",
    "plt.title(\"loss\")\n",
    "plt.legend()\n",
    "plt.show()"
   ]
  },
  {
   "cell_type": "code",
   "execution_count": null,
   "id": "7f88aef4",
   "metadata": {},
   "outputs": [],
   "source": [
    "tokenizer = konlpy.tag.Hannanum()\n",
    "\n",
    "tensor = konlpy_tokenizer(tokenizer, corpus)\n",
    "\n",
    "y_train = np.array(labels)\n",
    "X_train, X_test, y_train, y_test = train_test_split(tensor, y_train, test_size = 0.3, random_state=43)\n",
    "\n",
    "X_train = tf.keras.preprocessing.sequence.pad_sequences(X_train,\n",
    "                                                        padding=\"pre\", \n",
    "                                                        maxlen=maxlen)\n",
    "X_test = tf.keras.preprocessing.sequence.pad_sequences(X_test, \n",
    "                                                        padding=\"pre\", \n",
    "                                                        maxlen=maxlen)\n",
    "\n",
    "model.compile(optimizer='adam',\n",
    "              loss='binary_crossentropy',\n",
    "              metrics=['accuracy'])\n",
    "\n",
    "history = model.fit(X_train, y_train, epochs=3, batch_size=512, validation_data=(X_test, y_test))\n",
    "\n",
    "accuarcy = history.history[\"accuracy\"]\n",
    "loss = history.history[\"loss\"]\n",
    "valid_acc = history.history[\"val_accuracy\"]\n",
    "valid_loss = history.history[\"val_loss\"]\n",
    "\n",
    "plt.plot(accuarcy, label=\"train\")\n",
    "plt.plot(valid_acc, label=\"valid\")\n",
    "plt.title(\"accuarcy\")\n",
    "plt.legend()\n",
    "plt.show()\n",
    "\n",
    "plt.plot(loss, label=\"train\")\n",
    "plt.plot(valid_loss, label=\"valid\")\n",
    "plt.title(\"loss\")\n",
    "plt.legend()\n",
    "plt.show()"
   ]
  },
  {
   "cell_type": "code",
   "execution_count": null,
   "id": "5babef96",
   "metadata": {},
   "outputs": [],
   "source": []
  }
 ],
 "metadata": {
  "kernelspec": {
   "display_name": "Python 3 (ipykernel)",
   "language": "python",
   "name": "python3"
  },
  "language_info": {
   "codemirror_mode": {
    "name": "ipython",
    "version": 3
   },
   "file_extension": ".py",
   "mimetype": "text/x-python",
   "name": "python",
   "nbconvert_exporter": "python",
   "pygments_lexer": "ipython3",
   "version": "3.9.7"
  }
 },
 "nbformat": 4,
 "nbformat_minor": 5
}
