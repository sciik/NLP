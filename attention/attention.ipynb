{
 "cells": [
  {
   "cell_type": "code",
   "execution_count": 1,
   "id": "380b9817",
   "metadata": {},
   "outputs": [],
   "source": [
    "import pandas as pd\n",
    "import tensorflow as tf\n",
    "import matplotlib.pyplot as plt\n",
    "import sentencepiece as spm\n",
    "import numpy as np\n",
    "import re\n",
    "import konlpy\n",
    "from collections import Counter"
   ]
  },
  {
   "cell_type": "code",
   "execution_count": 100,
   "id": "78aa798a",
   "metadata": {},
   "outputs": [],
   "source": [
    "korean_train_data = []\n",
    "english_train_data = []\n",
    "korean_test_data = []\n",
    "english_test_data = []\n",
    "\n",
    "with open(\"./korean-english-park.train.ko\", \"r\") as f:\n",
    "    korean_train_data = f.read().splitlines()\n",
    "\n",
    "with open(\"./korean-english-park.train.en\", \"r\") as f:\n",
    "    english_train_data = f.read().splitlines()\n",
    "    \n",
    "with open(\"./korean-english-park.test.ko\", \"r\") as f:\n",
    "    korean_test_data = f.read().splitlines()\n",
    "    \n",
    "with open(\"./korean-english-park.test.en\", \"r\") as f:\n",
    "    english_test_data = f.read().splitlines()"
   ]
  },
  {
   "cell_type": "code",
   "execution_count": 101,
   "id": "82eff755",
   "metadata": {
    "scrolled": false
   },
   "outputs": [
    {
     "data": {
      "text/html": [
       "<div>\n",
       "<style scoped>\n",
       "    .dataframe tbody tr th:only-of-type {\n",
       "        vertical-align: middle;\n",
       "    }\n",
       "\n",
       "    .dataframe tbody tr th {\n",
       "        vertical-align: top;\n",
       "    }\n",
       "\n",
       "    .dataframe thead th {\n",
       "        text-align: right;\n",
       "    }\n",
       "</style>\n",
       "<table border=\"1\" class=\"dataframe\">\n",
       "  <thead>\n",
       "    <tr style=\"text-align: right;\">\n",
       "      <th></th>\n",
       "      <th>korean</th>\n",
       "      <th>english</th>\n",
       "    </tr>\n",
       "  </thead>\n",
       "  <tbody>\n",
       "    <tr>\n",
       "      <th>0</th>\n",
       "      <td>토론에 참여한 사람들은 법 집행과 국가 안전보장에 대한 우려를 표명해야 할 필요성을...</td>\n",
       "      <td>Those involved in the discussions do take seri...</td>\n",
       "    </tr>\n",
       "    <tr>\n",
       "      <th>1</th>\n",
       "      <td>또한 새로운 기술 개발이 어떤 해결책을 제공해 주는데 도움이 될 것이고, 동시 에 ...</td>\n",
       "      <td>There is also some hope that new technology de...</td>\n",
       "    </tr>\n",
       "    <tr>\n",
       "      <th>2</th>\n",
       "      <td>그래서 클리퍼 칩에 대한 개인적인 해결책은 서서히 자취를 감출 것입니다. 그러나 이...</td>\n",
       "      <td>So the individual solution of the clipper chip...</td>\n",
       "    </tr>\n",
       "    <tr>\n",
       "      <th>3</th>\n",
       "      <td>이탈리아의 천문학자들이 멀리에 있는 별들의 궤도를 도는 행성의 대기에서 생명체의 필...</td>\n",
       "      <td>Italian astronomers have found signs of water,...</td>\n",
       "    </tr>\n",
       "    <tr>\n",
       "      <th>4</th>\n",
       "      <td>물이 있다는 것이 다른 행성에 생명체들이 가득하다는 것을 의미하지는 않지만, 이번 ...</td>\n",
       "      <td>Having water does not mean other planets will ...</td>\n",
       "    </tr>\n",
       "    <tr>\n",
       "      <th>...</th>\n",
       "      <td>...</td>\n",
       "      <td>...</td>\n",
       "    </tr>\n",
       "    <tr>\n",
       "      <th>1995</th>\n",
       "      <td>코리아 헤럴드는 이번 관련법 개정으로 해외 부동산을 취득하고자 하는 개인에 대한 규...</td>\n",
       "      <td>The Korea Herald reports part of these changes...</td>\n",
       "    </tr>\n",
       "    <tr>\n",
       "      <th>1996</th>\n",
       "      <td>또한 투자 펀드를 통해 해외 부동산에 투자하고자 하는 사람들에게도 유리해지도록 법 ...</td>\n",
       "      <td>Other legal changes will help those aiming to ...</td>\n",
       "    </tr>\n",
       "    <tr>\n",
       "      <th>1997</th>\n",
       "      <td>반 외교부장관, 최근 핵 문제 관련 북한 태도에 경고</td>\n",
       "      <td>Foreign minister Ban warned North Korea for it...</td>\n",
       "    </tr>\n",
       "    <tr>\n",
       "      <th>1998</th>\n",
       "      <td>일본, 통근 열차 탈선 사고로 최소 69명 사망</td>\n",
       "      <td>Japan's derailed commuter train accident has k...</td>\n",
       "    </tr>\n",
       "    <tr>\n",
       "      <th>1999</th>\n",
       "      <td>중국 공안경찰은 그간 세간의 이목을 끌었던 몇몇 소송을 제기해 온 저명한 인권 운동...</td>\n",
       "      <td>Communist Chinese police have detained a promi...</td>\n",
       "    </tr>\n",
       "  </tbody>\n",
       "</table>\n",
       "<p>2000 rows × 2 columns</p>\n",
       "</div>"
      ],
      "text/plain": [
       "                                                 korean  \\\n",
       "0     토론에 참여한 사람들은 법 집행과 국가 안전보장에 대한 우려를 표명해야 할 필요성을...   \n",
       "1     또한 새로운 기술 개발이 어떤 해결책을 제공해 주는데 도움이 될 것이고, 동시 에 ...   \n",
       "2     그래서 클리퍼 칩에 대한 개인적인 해결책은 서서히 자취를 감출 것입니다. 그러나 이...   \n",
       "3     이탈리아의 천문학자들이 멀리에 있는 별들의 궤도를 도는 행성의 대기에서 생명체의 필...   \n",
       "4     물이 있다는 것이 다른 행성에 생명체들이 가득하다는 것을 의미하지는 않지만, 이번 ...   \n",
       "...                                                 ...   \n",
       "1995  코리아 헤럴드는 이번 관련법 개정으로 해외 부동산을 취득하고자 하는 개인에 대한 규...   \n",
       "1996  또한 투자 펀드를 통해 해외 부동산에 투자하고자 하는 사람들에게도 유리해지도록 법 ...   \n",
       "1997                 반 외교부장관, 최근 핵 문제 관련 북한 태도에 경고        \n",
       "1998                   일본, 통근 열차 탈선 사고로 최소 69명 사망         \n",
       "1999  중국 공안경찰은 그간 세간의 이목을 끌었던 몇몇 소송을 제기해 온 저명한 인권 운동...   \n",
       "\n",
       "                                                english  \n",
       "0     Those involved in the discussions do take seri...  \n",
       "1     There is also some hope that new technology de...  \n",
       "2     So the individual solution of the clipper chip...  \n",
       "3     Italian astronomers have found signs of water,...  \n",
       "4     Having water does not mean other planets will ...  \n",
       "...                                                 ...  \n",
       "1995  The Korea Herald reports part of these changes...  \n",
       "1996  Other legal changes will help those aiming to ...  \n",
       "1997  Foreign minister Ban warned North Korea for it...  \n",
       "1998  Japan's derailed commuter train accident has k...  \n",
       "1999  Communist Chinese police have detained a promi...  \n",
       "\n",
       "[2000 rows x 2 columns]"
      ]
     },
     "execution_count": 101,
     "metadata": {},
     "output_type": "execute_result"
    }
   ],
   "source": [
    "train_data = pd.DataFrame([i for i in zip(korean_train_data, english_train_data)], columns=[\"korean\", \"english\"])\n",
    "test_data = pd.DataFrame([i for i in zip(korean_test_data, english_test_data)], columns=[\"korean\", \"english\"])\n",
    "train_data \n",
    "test_data"
   ]
  },
  {
   "cell_type": "code",
   "execution_count": 102,
   "id": "ded09016",
   "metadata": {},
   "outputs": [
    {
     "name": "stdout",
     "output_type": "stream",
     "text": [
      "15155\n",
      "4\n"
     ]
    }
   ],
   "source": [
    "print(len(train_data[train_data.duplicated([\"korean\", \"english\"])]))\n",
    "train_data = train_data.drop_duplicates([\"korean\", \"english\"], ignore_index=True)\n",
    "\n",
    "print(len(test_data[test_data.duplicated([\"korean\", \"english\"])]))\n",
    "test_data = test_data.drop_duplicates([\"korean\", \"english\"], ignore_index=True)"
   ]
  },
  {
   "cell_type": "code",
   "execution_count": 103,
   "id": "1a541a1b",
   "metadata": {},
   "outputs": [],
   "source": [
    "train_data = train_data.sample(20000)"
   ]
  },
  {
   "cell_type": "code",
   "execution_count": 104,
   "id": "fd082144",
   "metadata": {
    "scrolled": true
   },
   "outputs": [],
   "source": [
    "korean_corpus = train_data[\"korean\"]\n",
    "english_corpus = train_data[\"english\"]\n",
    "\n",
    "korean_text_corpus = test_data[\"korean\"]\n",
    "english_text_corpus = test_data[\"english\"]"
   ]
  },
  {
   "cell_type": "code",
   "execution_count": 105,
   "id": "341e4c7a",
   "metadata": {},
   "outputs": [],
   "source": [
    "def preprocess(sentence, korean=True):\n",
    "    sentence = re.sub(r\"[^\\uAC00-\\uD7A30-9a-zA-Z\\s.,?!\\'\\\"]\", \"\", sentence)\n",
    "    sentence = re.sub(\"\\\"+\", \"\", sentence)\n",
    "    sentence = re.sub(r\"\\.+\", \" .\", sentence)\n",
    "    sentence = re.sub(\"!+\", \" !\", sentence)\n",
    "    sentence = re.sub(\"\\?+\", \" ?\", sentence)\n",
    "    sentence.lower().strip()\n",
    "    if not korean:\n",
    "        sentence = \"<sos> \" + sentence + \" <eos>\"\n",
    "    \n",
    "    return sentence"
   ]
  },
  {
   "cell_type": "code",
   "execution_count": 106,
   "id": "6e503bb4",
   "metadata": {},
   "outputs": [],
   "source": [
    "korean_corpus = [preprocess(sentence, korean=True) for sentence in korean_corpus]\n",
    "english_corpus = [preprocess(sentence, korean=False) for sentence in english_corpus]\n",
    "\n",
    "korean_text_corpus = [preprocess(sentence, korean=True) for sentence in korean_text_corpus]\n",
    "english_text_corpus = [preprocess(sentence, korean=False) for sentence in english_text_corpus]"
   ]
  },
  {
   "cell_type": "code",
   "execution_count": 108,
   "id": "5c73c3e6",
   "metadata": {},
   "outputs": [],
   "source": [
    "def konlpy_tokenizer(tokenizer, corpus):\n",
    "    words = []\n",
    "    sentences = []\n",
    "    for c in corpus:\n",
    "        temp = tokenizer.morphs(c)\n",
    "        words += temp\n",
    "        sentences.append(temp)\n",
    "        \n",
    "    counter = Counter(words)\n",
    "    counter = counter.most_common()\n",
    "    \n",
    "    words = [\"<pad>\", \"<unk>\"] + [key for key, _ in counter]\n",
    "    word_to_index = {word : index for index, word in enumerate(words)}\n",
    "    tensor = []\n",
    "    \n",
    "    for c in sentences:\n",
    "        temp = []\n",
    "        for s in c:\n",
    "            if s in words:\n",
    "                temp.append(word_to_index[s])\n",
    "            else:\n",
    "                temp.append(word_to_index[\"<unk>\"])\n",
    "        tensor.append(temp)\n",
    "    \n",
    "    return tensor, word_to_index"
   ]
  },
  {
   "cell_type": "code",
   "execution_count": 109,
   "id": "66ab8a39",
   "metadata": {},
   "outputs": [
    {
     "name": "stdout",
     "output_type": "stream",
     "text": [
      "30039\n"
     ]
    }
   ],
   "source": [
    "mecab = konlpy.tag.Mecab()\n",
    "korean_tokens, korean_word_to_index = konlpy_tokenizer(mecab, korean_corpus)"
   ]
  },
  {
   "cell_type": "code",
   "execution_count": 126,
   "id": "b884d5d8",
   "metadata": {},
   "outputs": [],
   "source": [
    "WORD_SIZE = len(korean_word_to_index)"
   ]
  },
  {
   "cell_type": "code",
   "execution_count": 110,
   "id": "cb00cafa",
   "metadata": {},
   "outputs": [],
   "source": [
    "korean_text_corpus = [mecab.morphs(k) for k in korean_text_corpus]\n",
    "korean_test = []\n",
    "for c in korean_text_corpus:\n",
    "        temp = []\n",
    "        for s in c:\n",
    "            if s in korean_word_to_index:\n",
    "                temp.append(korean_word_to_index[s])\n",
    "            else:\n",
    "                temp.append(korean_word_to_index[\"<unk>\"])\n",
    "        korean_test.append(temp)"
   ]
  },
  {
   "cell_type": "code",
   "execution_count": 127,
   "id": "4654e6bb",
   "metadata": {},
   "outputs": [],
   "source": [
    "korean_index_to_word = {word : index for word, index in enumerate(korean_word_to_index)}"
   ]
  },
  {
   "cell_type": "code",
   "execution_count": 128,
   "id": "1ae1226f",
   "metadata": {
    "scrolled": false
   },
   "outputs": [
    {
     "name": "stdout",
     "output_type": "stream",
     "text": [
      "37531\n",
      "30039\n"
     ]
    }
   ],
   "source": [
    "english_tokenizer = tf.keras.preprocessing.text.Tokenizer(filters=\" \")\n",
    "english_tokenizer.fit_on_texts(english_corpus)\n",
    "english_tokens = english_tokenizer.texts_to_sequences(english_corpus)\n",
    "english_test = english_tokenizer.texts_to_sequences(english_text_corpus)\n",
    "print(len(english_tokenizer.word_index))\n",
    "print(WORD_SIZE)"
   ]
  },
  {
   "cell_type": "code",
   "execution_count": 129,
   "id": "22ad0fb6",
   "metadata": {
    "scrolled": false
   },
   "outputs": [],
   "source": [
    "encoder_input = []\n",
    "decoder_input = []\n",
    "\n",
    "for k, e in zip(korean_tokens, english_tokens):\n",
    "    if len(e) < 40 and len(k) < 40:\n",
    "        encoder_input.append(k)\n",
    "        decoder_input.append(e)"
   ]
  },
  {
   "cell_type": "code",
   "execution_count": 130,
   "id": "17a44c31",
   "metadata": {},
   "outputs": [
    {
     "name": "stdout",
     "output_type": "stream",
     "text": [
      "15451 15451\n"
     ]
    }
   ],
   "source": [
    "print(len(encoder_input), len(decoder_input))"
   ]
  },
  {
   "cell_type": "code",
   "execution_count": 131,
   "id": "bf635ec1",
   "metadata": {},
   "outputs": [],
   "source": [
    "encoder_input = tf.keras.preprocessing.sequence.pad_sequences(encoder_input, padding='post')\n",
    "decoder_input = tf.keras.preprocessing.sequence.pad_sequences(decoder_input, padding='post')"
   ]
  },
  {
   "cell_type": "code",
   "execution_count": 132,
   "id": "4cbd9963",
   "metadata": {},
   "outputs": [],
   "source": [
    "encoder_test = []\n",
    "decoder_test = []\n",
    "\n",
    "for k, e in zip(korean_test, english_test):\n",
    "    if len(e) < 40 and len(k) < 40:\n",
    "        encoder_test.append(k)\n",
    "        decoder_test.append(e)\n",
    "\n",
    "encoder_test = tf.keras.preprocessing.sequence.pad_sequences(encoder_test, padding='post')\n",
    "decoder_test = tf.keras.preprocessing.sequence.pad_sequences(decoder_test, padding='post')"
   ]
  },
  {
   "cell_type": "code",
   "execution_count": 133,
   "id": "7e951633",
   "metadata": {},
   "outputs": [],
   "source": [
    "class BahdanauAttention(tf.keras.layers.Layer):\n",
    "    def __init__(self, units):\n",
    "        super(BahdanauAttention, self).__init__()\n",
    "        self.w_dec = tf.keras.layers.Dense(units)\n",
    "        self.w_enc = tf.keras.layers.Dense(units)\n",
    "        self.w_com = tf.keras.layers.Dense(1)\n",
    "    \n",
    "    def call(self, h_enc, h_dec):\n",
    "        h_enc = self.w_enc(h_enc)\n",
    "        h_dec = tf.expand_dims(h_dec, 1)\n",
    "        h_dec = self.w_dec(h_dec)\n",
    "\n",
    "        score = self.w_com(tf.nn.tanh(h_dec + h_enc))\n",
    "        \n",
    "        attn = tf.nn.softmax(score, axis=1)\n",
    "\n",
    "        context_vec = attn * h_enc\n",
    "        context_vec = tf.reduce_sum(context_vec, axis=1)\n",
    "\n",
    "        return context_vec, attn"
   ]
  },
  {
   "cell_type": "code",
   "execution_count": 134,
   "id": "13734189",
   "metadata": {},
   "outputs": [],
   "source": [
    "class Encoder(tf.keras.Model):\n",
    "    def __init__(self, vocab_size, embedding_dim, enc_units):\n",
    "        super(Encoder, self).__init__()\n",
    "        \n",
    "        self.enc_units = enc_units\n",
    "        self.embedding = tf.keras.layers.Embedding(vocab_size, embedding_dim)\n",
    "        self.gru1 = tf.keras.layers.GRU(enc_units, return_sequences=True, dropout=0.3)\n",
    "        self.gru2 = tf.keras.layers.GRU(enc_units, return_sequences=True, dropout=0.3)\n",
    "        \n",
    "    def call(self, x):\n",
    "        out = self.embedding(x)\n",
    "        out = self.gru1(out)\n",
    "        out = self.gru2(out)\n",
    "        \n",
    "        return out"
   ]
  },
  {
   "cell_type": "code",
   "execution_count": 135,
   "id": "1ebe1c86",
   "metadata": {},
   "outputs": [],
   "source": [
    "class Decoder(tf.keras.Model):\n",
    "    def __init__(self, vocab_size, embedding_dim, dec_units):\n",
    "        super(Decoder, self).__init__()\n",
    "        self.dec_units = dec_units\n",
    "        self.embedding = tf.keras.layers.Embedding(vocab_size, embedding_dim)\n",
    "        self.gru1 = tf.keras.layers.GRU(dec_units, return_sequences=True, dropout=0.3)\n",
    "        self.gru2 = tf.keras.layers.GRU(dec_units, return_sequences=True, return_state=True, dropout=0.3)\n",
    "        self.fc = tf.keras.layers.Dense(vocab_size)\n",
    "\n",
    "        self.attention = BahdanauAttention(self.dec_units)\n",
    "\n",
    "    def call(self, x, h_dec, enc_out):\n",
    "        context_vec, attn = self.attention(enc_out, h_dec)\n",
    "\n",
    "        out = self.embedding(x)\n",
    "        out = tf.concat([tf.expand_dims(context_vec, 1), out], axis=-1)\n",
    "        \n",
    "        out = self.gru1(out)\n",
    "        out, h_dec = self.gru2(out)\n",
    "        out = tf.reshape(out, (-1, out.shape[2]))\n",
    "        out = self.fc(out)\n",
    "\n",
    "        return out, h_dec, attn"
   ]
  },
  {
   "cell_type": "code",
   "execution_count": 141,
   "id": "3e26405f",
   "metadata": {},
   "outputs": [],
   "source": [
    "BATCH_SIZE = 256\n",
    "SRC_VOCAB_SIZE = WORD_SIZE + 1\n",
    "TGT_VOCAB_SIZE = len(english_tokenizer.word_index) + 1\n",
    "\n",
    "units = 256\n",
    "embedding_dim = 128\n",
    "\n",
    "encoder = Encoder(SRC_VOCAB_SIZE, embedding_dim, units)\n",
    "decoder = Decoder(TGT_VOCAB_SIZE, embedding_dim, units)"
   ]
  },
  {
   "cell_type": "code",
   "execution_count": 142,
   "id": "e54d2cce",
   "metadata": {},
   "outputs": [],
   "source": [
    "optimizer = tf.keras.optimizers.Adam()\n",
    "loss_object = tf.keras.losses.SparseCategoricalCrossentropy(from_logits=True, reduction='none')\n",
    "\n",
    "def loss_function(real, pred):\n",
    "    mask = tf.math.logical_not(tf.math.equal(real, 0))\n",
    "    loss = loss_object(real, pred)\n",
    "    \n",
    "    mask = tf.cast(mask, dtype=loss.dtype)\n",
    "    loss *= mask\n",
    "    \n",
    "    return tf.reduce_mean(loss)"
   ]
  },
  {
   "cell_type": "code",
   "execution_count": 143,
   "id": "680a9c61",
   "metadata": {},
   "outputs": [],
   "source": [
    "@tf.function\n",
    "def train_step(src, tgt, encoder, decoder, optimizer, dec_tok):\n",
    "    bsz = src.shape[0]\n",
    "    loss = 0\n",
    "\n",
    "    with tf.GradientTape() as tape:\n",
    "        enc_out = encoder(src)\n",
    "        h_dec = enc_out[:, -1]\n",
    "        \n",
    "        dec_src = tf.expand_dims([dec_tok.word_index[\"<sos>\"]] * bsz, 1)\n",
    "\n",
    "        for t in range(1, tgt.shape[1]):\n",
    "            pred, h_dec, _ = decoder(dec_src, h_dec, enc_out)\n",
    "\n",
    "            loss += loss_function(tgt[:, t], pred)\n",
    "            dec_src = tf.expand_dims(tgt[:, t], 1)\n",
    "        \n",
    "    batch_loss = (loss / int(tgt.shape[1]))\n",
    "\n",
    "    variables = encoder.trainable_variables + decoder.trainable_variables\n",
    "    gradients = tape.gradient(loss, variables)\n",
    "    optimizer.apply_gradients(zip(gradients, variables))\n",
    "    \n",
    "    return batch_loss"
   ]
  },
  {
   "cell_type": "code",
   "execution_count": 144,
   "id": "7538a0b0",
   "metadata": {},
   "outputs": [],
   "source": [
    "@tf.function\n",
    "def eval_step(src, tgt, encoder, decoder, dec_tok):\n",
    "    bsz = src.shape[0]\n",
    "    loss = 0\n",
    "\n",
    "    enc_out = encoder(src)\n",
    "\n",
    "    h_dec = enc_out[:, -1]\n",
    "    \n",
    "    dec_src = tf.expand_dims([dec_tok.word_index[\"<sos>\"]] * bsz, 1)\n",
    "\n",
    "    for t in range(1, tgt.shape[1]):\n",
    "        pred, h_dec, _ = decoder(dec_src, h_dec, enc_out)\n",
    "\n",
    "        loss += loss_function(tgt[:, t], pred)\n",
    "        dec_src = tf.expand_dims(tgt[:, t], 1)\n",
    "        \n",
    "    batch_loss = (loss / int(tgt.shape[1]))\n",
    "    \n",
    "    return batch_loss"
   ]
  },
  {
   "cell_type": "code",
   "execution_count": null,
   "id": "1cba5882",
   "metadata": {},
   "outputs": [],
   "source": [
    "loss = []"
   ]
  },
  {
   "cell_type": "code",
   "execution_count": 152,
   "id": "86b0580f",
   "metadata": {
    "scrolled": false
   },
   "outputs": [
    {
     "name": "stderr",
     "output_type": "stream",
     "text": [
      "Epoch  1: 100%|██████████| 61/61 [00:24<00:00,  2.44it/s, Loss 1.3896]\n",
      "Epoch  2: 100%|██████████| 61/61 [00:25<00:00,  2.38it/s, Loss 1.3740]\n",
      "Epoch  3: 100%|██████████| 61/61 [00:24<00:00,  2.46it/s, Loss 1.3598]\n",
      "Epoch  4: 100%|██████████| 61/61 [00:24<00:00,  2.46it/s, Loss 1.3432]\n",
      "Epoch  5: 100%|██████████| 61/61 [00:25<00:00,  2.43it/s, Loss 1.3323]\n",
      "Epoch  6: 100%|██████████| 61/61 [00:24<00:00,  2.45it/s, Loss 1.3211]\n",
      "Epoch  7: 100%|██████████| 61/61 [00:24<00:00,  2.46it/s, Loss 1.3020]\n",
      "Epoch  8: 100%|██████████| 61/61 [00:24<00:00,  2.45it/s, Loss 1.2817]\n",
      "Epoch  9: 100%|██████████| 61/61 [00:24<00:00,  2.45it/s, Loss 1.2728]\n",
      "Epoch 10: 100%|██████████| 61/61 [00:24<00:00,  2.45it/s, Loss 1.2531]\n",
      "Epoch 11: 100%|██████████| 61/61 [00:24<00:00,  2.45it/s, Loss 1.2294]\n",
      "Epoch 12: 100%|██████████| 61/61 [00:24<00:00,  2.45it/s, Loss 1.2063]\n",
      "Epoch 13: 100%|██████████| 61/61 [00:24<00:00,  2.45it/s, Loss 1.1850]\n",
      "Epoch 14: 100%|██████████| 61/61 [00:24<00:00,  2.46it/s, Loss 1.1687]\n",
      "Epoch 15: 100%|██████████| 61/61 [00:24<00:00,  2.46it/s, Loss 1.1568]\n",
      "Epoch 16: 100%|██████████| 61/61 [00:24<00:00,  2.45it/s, Loss 1.1497]\n",
      "Epoch 17: 100%|██████████| 61/61 [00:24<00:00,  2.45it/s, Loss 1.1458]\n",
      "Epoch 18: 100%|██████████| 61/61 [00:24<00:00,  2.45it/s, Loss 1.1292]\n",
      "Epoch 19: 100%|██████████| 61/61 [00:24<00:00,  2.46it/s, Loss 1.1094]\n",
      "Epoch 20: 100%|██████████| 61/61 [00:24<00:00,  2.45it/s, Loss 1.0860]\n",
      "Epoch 21: 100%|██████████| 61/61 [00:24<00:00,  2.45it/s, Loss 1.0678]\n",
      "Epoch 22: 100%|██████████| 61/61 [00:24<00:00,  2.45it/s, Loss 1.0550]\n",
      "Epoch 23: 100%|██████████| 61/61 [00:24<00:00,  2.45it/s, Loss 1.0409]\n",
      "Epoch 24: 100%|██████████| 61/61 [00:24<00:00,  2.45it/s, Loss 1.0381]\n",
      "Epoch 25: 100%|██████████| 61/61 [00:24<00:00,  2.45it/s, Loss 1.0292]\n",
      "Epoch 26: 100%|██████████| 61/61 [00:24<00:00,  2.45it/s, Loss 1.0134]\n",
      "Epoch 27: 100%|██████████| 61/61 [00:24<00:00,  2.45it/s, Loss 0.9997]\n",
      "Epoch 28: 100%|██████████| 61/61 [00:24<00:00,  2.45it/s, Loss 0.9915]\n",
      "Epoch 29: 100%|██████████| 61/61 [00:24<00:00,  2.44it/s, Loss 0.9753]\n",
      "Epoch 30: 100%|██████████| 61/61 [00:25<00:00,  2.44it/s, Loss 0.9592]\n",
      "Epoch 31: 100%|██████████| 61/61 [00:24<00:00,  2.44it/s, Loss 0.9518]\n",
      "Epoch 32: 100%|██████████| 61/61 [00:24<00:00,  2.44it/s, Loss 0.9420]\n",
      "Epoch 33: 100%|██████████| 61/61 [00:24<00:00,  2.45it/s, Loss 0.9367]\n",
      "Epoch 34: 100%|██████████| 61/61 [00:24<00:00,  2.45it/s, Loss 0.9372]\n",
      "Epoch 35: 100%|██████████| 61/61 [00:24<00:00,  2.45it/s, Loss 0.9268]\n",
      "Epoch 36: 100%|██████████| 61/61 [00:24<00:00,  2.45it/s, Loss 0.9085]\n",
      "Epoch 37: 100%|██████████| 61/61 [00:24<00:00,  2.45it/s, Loss 0.8909]\n",
      "Epoch 38: 100%|██████████| 61/61 [00:24<00:00,  2.45it/s, Loss 0.8764]\n",
      "Epoch 39: 100%|██████████| 61/61 [00:24<00:00,  2.45it/s, Loss 0.8645]\n",
      "Epoch 40: 100%|██████████| 61/61 [00:24<00:00,  2.44it/s, Loss 0.8482]\n",
      "Epoch 41: 100%|██████████| 61/61 [00:24<00:00,  2.44it/s, Loss 0.8447]\n",
      "Epoch 42: 100%|██████████| 61/61 [00:25<00:00,  2.44it/s, Loss 0.8333]\n",
      "Epoch 43: 100%|██████████| 61/61 [00:25<00:00,  2.44it/s, Loss 0.8213]\n",
      "Epoch 44: 100%|██████████| 61/61 [00:24<00:00,  2.45it/s, Loss 0.8038]\n",
      "Epoch 45: 100%|██████████| 61/61 [00:24<00:00,  2.44it/s, Loss 0.7947]\n",
      "Epoch 46: 100%|██████████| 61/61 [00:24<00:00,  2.44it/s, Loss 0.7820]\n",
      "Epoch 47: 100%|██████████| 61/61 [00:24<00:00,  2.44it/s, Loss 0.7701]\n",
      "Epoch 48: 100%|██████████| 61/61 [00:24<00:00,  2.45it/s, Loss 0.7544]\n",
      "Epoch 49: 100%|██████████| 61/61 [00:24<00:00,  2.45it/s, Loss 0.7477]\n",
      "Epoch 50: 100%|██████████| 61/61 [00:24<00:00,  2.45it/s, Loss 0.7399]\n",
      "Epoch 51: 100%|██████████| 61/61 [00:24<00:00,  2.45it/s, Loss 0.7373]\n",
      "Epoch 52: 100%|██████████| 61/61 [00:24<00:00,  2.45it/s, Loss 0.7309]\n",
      "Epoch 53: 100%|██████████| 61/61 [00:24<00:00,  2.45it/s, Loss 0.7196]\n",
      "Epoch 54: 100%|██████████| 61/61 [00:24<00:00,  2.45it/s, Loss 0.7077]\n",
      "Epoch 55: 100%|██████████| 61/61 [00:24<00:00,  2.45it/s, Loss 0.7012]\n",
      "Epoch 56: 100%|██████████| 61/61 [00:24<00:00,  2.45it/s, Loss 0.6872]\n",
      "Epoch 57: 100%|██████████| 61/61 [00:24<00:00,  2.45it/s, Loss 0.6697]\n",
      "Epoch 58: 100%|██████████| 61/61 [00:24<00:00,  2.45it/s, Loss 0.6649]\n",
      "Epoch 59: 100%|██████████| 61/61 [00:24<00:00,  2.45it/s, Loss 0.6556]\n",
      "Epoch 60: 100%|██████████| 61/61 [00:24<00:00,  2.45it/s, Loss 0.6469]\n",
      "Epoch 61: 100%|██████████| 61/61 [00:24<00:00,  2.45it/s, Loss 0.6441]\n",
      "Epoch 62: 100%|██████████| 61/61 [00:24<00:00,  2.45it/s, Loss 0.6428]\n",
      "Epoch 63: 100%|██████████| 61/61 [00:24<00:00,  2.45it/s, Loss 0.6349]\n",
      "Epoch 64: 100%|██████████| 61/61 [00:24<00:00,  2.45it/s, Loss 0.6327]\n",
      "Epoch 65: 100%|██████████| 61/61 [00:24<00:00,  2.45it/s, Loss 0.6330]\n",
      "Epoch 66: 100%|██████████| 61/61 [00:24<00:00,  2.45it/s, Loss 0.6291]\n",
      "Epoch 67: 100%|██████████| 61/61 [00:24<00:00,  2.46it/s, Loss 0.6180]\n",
      "Epoch 68: 100%|██████████| 61/61 [00:24<00:00,  2.45it/s, Loss 0.5987]\n",
      "Epoch 69: 100%|██████████| 61/61 [00:25<00:00,  2.44it/s, Loss 0.5780]\n",
      "Epoch 70: 100%|██████████| 61/61 [00:24<00:00,  2.44it/s, Loss 0.5718]\n",
      "Epoch 71: 100%|██████████| 61/61 [00:24<00:00,  2.45it/s, Loss 0.5790]\n",
      "Epoch 72: 100%|██████████| 61/61 [00:24<00:00,  2.45it/s, Loss 0.5800]\n",
      "Epoch 73: 100%|██████████| 61/61 [00:24<00:00,  2.45it/s, Loss 0.5694]\n",
      "Epoch 74: 100%|██████████| 61/61 [00:24<00:00,  2.45it/s, Loss 0.5543]\n",
      "Epoch 75: 100%|██████████| 61/61 [00:24<00:00,  2.45it/s, Loss 0.5397]\n",
      "Epoch 76: 100%|██████████| 61/61 [00:24<00:00,  2.45it/s, Loss 0.5331]\n",
      "Epoch 77: 100%|██████████| 61/61 [00:24<00:00,  2.45it/s, Loss 0.5219]\n",
      "Epoch 78: 100%|██████████| 61/61 [00:24<00:00,  2.45it/s, Loss 0.5110]\n",
      "Epoch 79: 100%|██████████| 61/61 [00:24<00:00,  2.45it/s, Loss 0.5031]\n",
      "Epoch 80: 100%|██████████| 61/61 [00:24<00:00,  2.46it/s, Loss 0.4991]\n",
      "Epoch 81: 100%|██████████| 61/61 [00:24<00:00,  2.46it/s, Loss 0.4915]\n",
      "Epoch 82: 100%|██████████| 61/61 [00:24<00:00,  2.45it/s, Loss 0.4884]\n",
      "Epoch 83: 100%|██████████| 61/61 [00:24<00:00,  2.45it/s, Loss 0.4881]\n",
      "Epoch 84: 100%|██████████| 61/61 [00:25<00:00,  2.44it/s, Loss 0.4893]\n",
      "Epoch 85: 100%|██████████| 61/61 [00:24<00:00,  2.44it/s, Loss 0.4914]\n",
      "Epoch 86: 100%|██████████| 61/61 [00:24<00:00,  2.45it/s, Loss 0.4909]\n",
      "Epoch 87: 100%|██████████| 61/61 [00:24<00:00,  2.44it/s, Loss 0.4821]\n",
      "Epoch 88: 100%|██████████| 61/61 [00:24<00:00,  2.44it/s, Loss 0.4690]\n",
      "Epoch 89: 100%|██████████| 61/61 [00:24<00:00,  2.45it/s, Loss 0.4608]\n",
      "Epoch 90: 100%|██████████| 61/61 [00:24<00:00,  2.45it/s, Loss 0.4564]\n",
      "Epoch 91: 100%|██████████| 61/61 [00:24<00:00,  2.46it/s, Loss 0.4476]\n",
      "Epoch 92: 100%|██████████| 61/61 [00:24<00:00,  2.45it/s, Loss 0.4354]\n",
      "Epoch 93: 100%|██████████| 61/61 [00:24<00:00,  2.45it/s, Loss 0.4250]\n",
      "Epoch 94: 100%|██████████| 61/61 [00:24<00:00,  2.44it/s, Loss 0.4164]\n",
      "Epoch 95: 100%|██████████| 61/61 [00:24<00:00,  2.44it/s, Loss 0.4129]\n",
      "Epoch 96: 100%|██████████| 61/61 [00:25<00:00,  2.44it/s, Loss 0.4064]\n",
      "Epoch 97: 100%|██████████| 61/61 [00:24<00:00,  2.44it/s, Loss 0.4026]\n",
      "Epoch 98: 100%|██████████| 61/61 [00:24<00:00,  2.45it/s, Loss 0.3952]\n",
      "Epoch 99: 100%|██████████| 61/61 [00:24<00:00,  2.46it/s, Loss 0.3924]\n",
      "Epoch 100: 100%|██████████| 61/61 [00:24<00:00,  2.45it/s, Loss 0.3866]\n"
     ]
    }
   ],
   "source": [
    "from tqdm import tqdm\n",
    "import random\n",
    "\n",
    "EPOCHS = 100\n",
    "\n",
    "for epoch in range(EPOCHS):\n",
    "    total_loss = 0\n",
    "    \n",
    "    idx_list = list(range(0, encoder_input.shape[0], BATCH_SIZE))\n",
    "    random.shuffle(idx_list)\n",
    "    t = tqdm(idx_list)  \n",
    "\n",
    "    for (batch, idx) in enumerate(t):\n",
    "        batch_loss = train_step(encoder_input[idx:idx+BATCH_SIZE],\n",
    "                                decoder_input[idx:idx+BATCH_SIZE],\n",
    "                                encoder,\n",
    "                                decoder,\n",
    "                                optimizer,\n",
    "                                english_tokenizer)\n",
    "    \n",
    "        total_loss += batch_loss\n",
    "        loss.append((total_loss.numpy() / (batch + 1)))\n",
    "        \n",
    "        t.set_description_str('Epoch %2d' % (epoch + 1)) \n",
    "        t.set_postfix_str('Loss %.4f' % (total_loss.numpy() / (batch + 1)))\n",
    "    "
   ]
  },
  {
   "cell_type": "code",
   "execution_count": 153,
   "id": "9b53c358",
   "metadata": {},
   "outputs": [
    {
     "data": {
      "image/png": "[encoded data removed]",
      "text/plain": [
       "<Figure size 432x288 with 1 Axes>"
      ]
     },
     "metadata": {
      "needs_background": "light"
     },
     "output_type": "display_data"
    }
   ],
   "source": [
    "plt.plot(loss)\n",
    "plt.title(\"loss\")\n",
    "plt.show()"
   ]
  },
  {
   "cell_type": "code",
   "execution_count": 170,
   "id": "061ab3f2",
   "metadata": {},
   "outputs": [],
   "source": [
    "def decode_sequence(input_sentence):\n",
    "    input_sentence = preprocess(input_sentence)\n",
    "    input_sentence = [korean_word_to_index[s] for s in mecab.morphs(input_sentence)]\n",
    "    input_sentence = tf.keras.preprocessing.sequence.pad_sequences([input_sentence], padding=\"post\", maxlen=39)\n",
    "  \n",
    "    states_value = encoder(input_sentence)\n",
    "    \n",
    "    decoder_hidden = states_value[:, -1]\n",
    "    decoder_input = tf.expand_dims([english_tokenizer.word_index[\"<sos>\"]], 0)\n",
    "    \n",
    "    flag = True\n",
    "    decoded_sentence = \"\"\n",
    "    while flag:\n",
    "        output_tokens, decoder_hidden, _ = decoder(decoder_input, decoder_hidden, states_value)\n",
    "\n",
    "        sampled_token_index = tf.argmax(tf.math.softmax(output_tokens, axis=-1)[0]).numpy()\n",
    "        sampled_token = english_tokenizer.index_word[sampled_token_index]\n",
    "\n",
    "        decoded_sentence += \" \" + sampled_token\n",
    "\n",
    "        if sampled_token == \"<eos>\" or len(decoded_sentence) > 39:\n",
    "            flag = False\n",
    "        decoder_input = tf.expand_dims([sampled_token_index], 0)\n",
    "\n",
    "    return decoded_sentence[:-6]"
   ]
  },
  {
   "cell_type": "code",
   "execution_count": 203,
   "id": "32f6c819",
   "metadata": {
    "scrolled": false
   },
   "outputs": [
    {
     "name": "stdout",
     "output_type": "stream",
     "text": [
      " for the next project\n",
      " one is a new trademark dispute .\n",
      " they had no longer the right for the ap\n"
     ]
    }
   ],
   "source": [
    "print(decode_sequence(\"처음부터 시작\"))\n",
    "print(decode_sequence(\"전쟁이 발발하였습니다\"))\n",
    "print(decode_sequence(\"지구온난화가 심각하다고 주장했습니다\"))"
   ]
  }
 ],
 "metadata": {
  "kernelspec": {
   "display_name": "Python 3 (ipykernel)",
   "language": "python",
   "name": "python3"
  },
  "language_info": {
   "codemirror_mode": {
    "name": "ipython",
    "version": 3
   },
   "file_extension": ".py",
   "mimetype": "text/x-python",
   "name": "python",
   "nbconvert_exporter": "python",
   "pygments_lexer": "ipython3",
   "version": "3.9.7"
  }
 },
 "nbformat": 4,
 "nbformat_minor": 5
}
